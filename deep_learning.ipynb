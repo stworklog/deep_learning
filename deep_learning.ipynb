{
 "cells": [
  {
   "attachments": {},
   "cell_type": "markdown",
   "metadata": {},
   "source": [
    "# Build my own deep learning functions\n",
    "\n",
    "## Purpose\n",
    "\n",
    "Learn by practicing. Notations follow Andrew Ng's Coursera deep learning course."
   ]
  },
  {
   "attachments": {},
   "cell_type": "markdown",
   "metadata": {},
   "source": [
    "### Build the forward_prop function\n",
    "Note: If there is error while importing python modules while running this notebook in vscode, make sure the both the vscode python interpreter and ipython kernal are both set properly. \n",
    "\n",
    "### Model structure\n",
    "The model consist of L-1 relu layers and one sigmoid layer."
   ]
  },
  {
   "cell_type": "code",
   "execution_count": 18,
   "metadata": {},
   "outputs": [],
   "source": [
    "import numpy as np\n",
    "import h5py\n",
    "\n",
    "import h5py\n"
   ]
  },
  {
   "cell_type": "code",
   "execution_count": null,
   "metadata": {},
   "outputs": [],
   "source": [
    "# Below function taken from course assignments\n",
    "def load_data():\n",
    "    train_dataset = h5py.File('datasets/train_catvnoncat.h5', \"r\")\n",
    "    train_set_x_orig = np.array(train_dataset[\"train_set_x\"][:])\n",
    "    train_set_y_orig = np.array(train_dataset[\"train_set_y\"][:])\n",
    "\n",
    "    test_dataset = h5py.File('datasets/test_catvnoncat.h5', \"r\")\n",
    "    test_set_x_orig = np.array(test_dataset[\"test_set_x\"][:])\n",
    "    test_set_y_orig = np.array(test_dataset[\"test_set_y\"][:])\n",
    "\n",
    "    classes = np.array(test_dataset[\"list_classes\"][:])\n",
    "    \n",
    "    train_set_y_orig = train_set_y_orig.reshape((1, train_set_y_orig.shape[0]))\n",
    "    test_set_y_orig = test_set_y_orig.reshape((1, test_set_y_orig.shape[0]))\n",
    "    \n",
    "    return train_set_x_orig, train_set_y_orig, test_set_x_orig, test_set_y_orig, classes"
   ]
  },
  {
   "cell_type": "code",
   "execution_count": 11,
   "metadata": {},
   "outputs": [],
   "source": [
    "def relu(Z):\n",
    "    '''\n",
    "    Z: Input to the activate function\n",
    "\n",
    "    A: Output of the relu function\n",
    "    '''\n",
    "    A = np.maximum(0, Z)\n",
    "    assert(np.min(A) >= 0.0)\n",
    "    return A\n"
   ]
  },
  {
   "cell_type": "code",
   "execution_count": 2,
   "metadata": {},
   "outputs": [],
   "source": [
    "def forward_prop(X, Y, parameters):\n",
    "    '''\n",
    "    # TODO: What's the row # variable?\n",
    "    X: Input data. (n0???, m). n0: feature #; m: # of examples\n",
    "    Y: Labels. (1, m)\n",
    "    parameters: The model parameters\n",
    "\n",
    "    J: the cost\n",
    "    '''\n",
    "    L = len(parameters) // 2\n",
    "    Xl = X\n",
    "    for l in range(1, L):\n",
    "        # print('l=', l)\n",
    "        W = parameters['W'+str(l)]\n",
    "        b = parameters['b'+str(l)]\n",
    "\n",
    "        assert(W.shape[0] == b.shape[0])\n",
    "        Z = np.dot(W, Xl) + b\n",
    "        A = relu(Z)\n",
    "        Xl = A\n",
    "    ZL = np.dot(parameters['W'+str(L)], Xl) + parameters['b'+str(L)]\n",
    "    AL = 1 / (1 + np.exp(-ZL)) # sigmoid\n",
    "\n",
    "    J = - Y * np.log(AL) - (1 - Y) * np.log(1 - AL)\n",
    "\n",
    "    return J\n"
   ]
  },
  {
   "cell_type": "code",
   "execution_count": 3,
   "metadata": {},
   "outputs": [
    {
     "ename": "AttributeError",
     "evalue": "'float' object has no attribute 'shape'",
     "output_type": "error",
     "traceback": [
      "\u001b[1;31m---------------------------------------------------------------------------\u001b[0m",
      "\u001b[1;31mAttributeError\u001b[0m                            Traceback (most recent call last)",
      "Cell \u001b[1;32mIn[3], line 8\u001b[0m\n\u001b[0;32m      6\u001b[0m parameters[\u001b[39m'\u001b[39m\u001b[39mW3\u001b[39m\u001b[39m'\u001b[39m] \u001b[39m=\u001b[39m \u001b[39m3.1\u001b[39m\n\u001b[0;32m      7\u001b[0m parameters[\u001b[39m'\u001b[39m\u001b[39mb3\u001b[39m\u001b[39m'\u001b[39m] \u001b[39m=\u001b[39m \u001b[39m3.2\u001b[39m\n\u001b[1;32m----> 8\u001b[0m forward_prop(\u001b[39m0\u001b[39;49m, \u001b[39m0\u001b[39;49m, parameters)\n",
      "Cell \u001b[1;32mIn[2], line 16\u001b[0m, in \u001b[0;36mforward_prop\u001b[1;34m(X, Y, parameters)\u001b[0m\n\u001b[0;32m     13\u001b[0m     W \u001b[39m=\u001b[39m parameters[\u001b[39m'\u001b[39m\u001b[39mW\u001b[39m\u001b[39m'\u001b[39m\u001b[39m+\u001b[39m\u001b[39mstr\u001b[39m(l)]\n\u001b[0;32m     14\u001b[0m     b \u001b[39m=\u001b[39m parameters[\u001b[39m'\u001b[39m\u001b[39mb\u001b[39m\u001b[39m'\u001b[39m\u001b[39m+\u001b[39m\u001b[39mstr\u001b[39m(l)]\n\u001b[1;32m---> 16\u001b[0m     \u001b[39massert\u001b[39;00m(W\u001b[39m.\u001b[39;49mshape[\u001b[39m0\u001b[39m] \u001b[39m==\u001b[39m b\u001b[39m.\u001b[39mshape[\u001b[39m0\u001b[39m])\n\u001b[0;32m     17\u001b[0m     Z \u001b[39m=\u001b[39m np\u001b[39m.\u001b[39mdot(W, X) \u001b[39m+\u001b[39m b\n\u001b[0;32m     19\u001b[0m J \u001b[39m=\u001b[39m \u001b[39m0.0\u001b[39m\n",
      "\u001b[1;31mAttributeError\u001b[0m: 'float' object has no attribute 'shape'"
     ]
    }
   ],
   "source": [
    "layer_dims = [4, 4, 1]\n",
    "parameters = {}\n",
    "parameters['W1'] = 1.1\n",
    "parameters['b1'] = 1.2\n",
    "parameters['W2'] = 2.1\n",
    "parameters['b2'] = 2.2\n",
    "parameters['W3'] = 3.1\n",
    "parameters['b3'] = 3.2\n",
    "forward_prop(0, 0, parameters)\n"
   ]
  },
  {
   "cell_type": "code",
   "execution_count": null,
   "metadata": {},
   "outputs": [],
   "source": []
  },
  {
   "cell_type": "code",
   "execution_count": null,
   "metadata": {},
   "outputs": [],
   "source": []
  }
 ],
 "metadata": {
  "kernelspec": {
   "display_name": "deep_learning",
   "language": "python",
   "name": "python3"
  },
  "language_info": {
   "codemirror_mode": {
    "name": "ipython",
    "version": 3
   },
   "file_extension": ".py",
   "mimetype": "text/x-python",
   "name": "python",
   "nbconvert_exporter": "python",
   "pygments_lexer": "ipython3",
   "version": "3.10.9"
  },
  "orig_nbformat": 4,
  "vscode": {
   "interpreter": {
    "hash": "f9106001457af72d47936dee7caa91819d7d07483ac378abff84224ca18e4769"
   }
  }
 },
 "nbformat": 4,
 "nbformat_minor": 2
}
