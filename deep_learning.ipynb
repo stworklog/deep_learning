{
 "cells": [
  {
   "attachments": {},
   "cell_type": "markdown",
   "metadata": {},
   "source": [
    "# Build my own deep learning functions\n",
    "\n",
    "## Purpose\n",
    "\n",
    "Learn by practicing. Notations follow Andrew Ng's Coursera deep learning course."
   ]
  },
  {
   "attachments": {},
   "cell_type": "markdown",
   "metadata": {},
   "source": [
    "### Build the forward_prop function\n",
    "\n",
    "Note: If there is error while importing python modules while running this notebook in vscode, make sure the both the vscode python interpreter and ipython kernal are both set properly. "
   ]
  },
  {
   "cell_type": "code",
   "execution_count": 1,
   "metadata": {},
   "outputs": [],
   "source": [
    "import numpy as np"
   ]
  },
  {
   "cell_type": "code",
   "execution_count": 2,
   "metadata": {},
   "outputs": [],
   "source": [
    "def forward_prop(X, Y, parameters):\n",
    "    '''\n",
    "    # TODO: What's the row # variable?\n",
    "    X: Input data. (n0???, m). n0: feature #; m: # of examples\n",
    "    Y: Labels. (1, m)\n",
    "    parameters: The model parameters\n",
    "\n",
    "    J: the cost\n",
    "    '''\n",
    "    L = len(parameters) // 2\n",
    "    for l in range(1, L):\n",
    "        # print('l=', l)\n",
    "        W = parameters['W'+str(l)]\n",
    "        b = parameters['b'+str(l)]\n",
    "\n",
    "        assert(W.shape[0] == b.shape[0])\n",
    "        Z = np.dot(W, X) + b\n",
    "    \n",
    "    J = 0.0\n",
    "\n",
    "    return J\n"
   ]
  },
  {
   "cell_type": "code",
   "execution_count": 3,
   "metadata": {},
   "outputs": [
    {
     "data": {
      "text/plain": [
       "3"
      ]
     },
     "execution_count": 3,
     "metadata": {},
     "output_type": "execute_result"
    }
   ],
   "source": [
    "parameters = {}\n",
    "parameters['W1'] = 1.1\n",
    "parameters['b1'] = 1.2\n",
    "parameters['W2'] = 2.1\n",
    "parameters['b2'] = 2.2\n",
    "parameters['W3'] = 3.1\n",
    "parameters['b3'] = 3.2\n",
    "forward_prop(0, 0, parameters)\n"
   ]
  },
  {
   "cell_type": "code",
   "execution_count": null,
   "metadata": {},
   "outputs": [],
   "source": []
  },
  {
   "cell_type": "code",
   "execution_count": null,
   "metadata": {},
   "outputs": [],
   "source": []
  }
 ],
 "metadata": {
  "kernelspec": {
   "display_name": "deep_learning",
   "language": "python",
   "name": "python3"
  },
  "language_info": {
   "codemirror_mode": {
    "name": "ipython",
    "version": 3
   },
   "file_extension": ".py",
   "mimetype": "text/x-python",
   "name": "python",
   "nbconvert_exporter": "python",
   "pygments_lexer": "ipython3",
   "version": "3.11.0 | packaged by conda-forge | (main, Oct 25 2022, 06:12:32) [MSC v.1929 64 bit (AMD64)]"
  },
  "orig_nbformat": 4,
  "vscode": {
   "interpreter": {
    "hash": "879bf236243f5f3c3f16927df85609c2f6dbedfe1e86c1d37000aa722c5f092b"
   }
  }
 },
 "nbformat": 4,
 "nbformat_minor": 2
}
